{
 "cells": [
  {
   "cell_type": "markdown",
   "metadata": {},
   "source": [
    "1. Імпортуйте необхідні модулі (matplotlib та інші)."
   ]
  },
  {
   "cell_type": "code",
   "execution_count": 79,
   "metadata": {},
   "outputs": [],
   "source": [
    "import heapq\n",
    "import matplotlib.pyplot as plt"
   ]
  },
  {
   "cell_type": "markdown",
   "metadata": {},
   "source": [
    "2. Візьміть код реалізації MapReduce з конспекту."
   ]
  },
  {
   "cell_type": "code",
   "execution_count": 80,
   "metadata": {},
   "outputs": [],
   "source": [
    "import string\n",
    "\n",
    "from concurrent.futures import ThreadPoolExecutor\n",
    "from collections import defaultdict\n",
    "\n",
    "import requests\n",
    "\n",
    "\n",
    "def get_text(url):\n",
    "    try:\n",
    "        response = requests.get(url)\n",
    "        response.raise_for_status()  # Перевірка на помилки HTTP\n",
    "        return response.text\n",
    "    except requests.RequestException as e:\n",
    "        return None\n",
    "\n",
    "\n",
    "# Функція для видалення знаків пунктуації\n",
    "def remove_punctuation(text):\n",
    "    return text.translate(str.maketrans(\"\", \"\", string.punctuation))\n",
    "\n",
    "\n",
    "def map_function(word):\n",
    "    return word, 1\n",
    "\n",
    "\n",
    "def shuffle_function(mapped_values):\n",
    "    shuffled = defaultdict(list)\n",
    "    for key, value in mapped_values:\n",
    "        shuffled[key].append(value)\n",
    "    return shuffled.items()\n",
    "\n",
    "\n",
    "def reduce_function(key_values):\n",
    "    key, values = key_values\n",
    "    return key, sum(values)\n",
    "\n",
    "\n",
    "# Виконання MapReduce\n",
    "def map_reduce(text, search_words=None):\n",
    "    # Видалення знаків пунктуації\n",
    "    text = remove_punctuation(text)\n",
    "    words = text.split()\n",
    "\n",
    "    # Якщо задано список слів для пошуку, враховувати тільки ці слова\n",
    "    if search_words:\n",
    "        words = [word for word in words if word in search_words]\n",
    "\n",
    "    # Паралельний Мапінг\n",
    "    with ThreadPoolExecutor() as executor:\n",
    "        mapped_values = list(executor.map(map_function, words))\n",
    "\n",
    "    # Крок 2: Shuffle\n",
    "    shuffled_values = shuffle_function(mapped_values)\n",
    "\n",
    "    # Паралельна Редукція\n",
    "    with ThreadPoolExecutor() as executor:\n",
    "        reduced_values = list(executor.map(reduce_function, shuffled_values))\n",
    "\n",
    "    return dict(reduced_values)"
   ]
  },
  {
   "cell_type": "markdown",
   "metadata": {},
   "source": [
    "3. Створіть функцію visualize_top_words для візуалізації результатів."
   ]
  },
  {
   "cell_type": "code",
   "execution_count": 81,
   "metadata": {},
   "outputs": [],
   "source": [
    "def visualize_top_words(url, n):\n",
    "    text = get_text(url)\n",
    "    if text:\n",
    "        # Виконання MapReduce на вхідному тексті\n",
    "        result = map_reduce(text)\n",
    "        # print(\"Результат підрахунку слів:\", result)\n",
    "        heap = [(value, key) for key, value in result.items()]\n",
    "        lagest = heapq.nlargest(n, heap, key=None)\n",
    "        lagest.reverse()\n",
    "\n",
    "        y = [i[1] for i in lagest]\n",
    "        x = [i[0] for i in lagest]\n",
    "        plt.barh(y, x)\n",
    "\n",
    "        # setting label of y-axis\n",
    "        plt.ylabel(\"Words\")\n",
    "\n",
    "        # setting label of x-axis\n",
    "        plt.xlabel(\"Frequency\")\n",
    "        plt.title(f\"Top {n} Most Frequent Words\")\n",
    "        plt.show()\n",
    "\n",
    "    else:\n",
    "        print(\"Помилка: Не вдалося отримати вхідний текст.\")"
   ]
  },
  {
   "cell_type": "markdown",
   "metadata": {},
   "source": [
    "4. У головному блоці коду отримайте текст за URL, застосуйте MapReduce та візуалізуйте результати."
   ]
  },
  {
   "cell_type": "code",
   "execution_count": 82,
   "metadata": {},
   "outputs": [
    {
     "data": {
      "image/png": "[encoded data removed]",
      "text/plain": [
       "<Figure size 640x480 with 1 Axes>"
      ]
     },
     "metadata": {},
     "output_type": "display_data"
    }
   ],
   "source": [
    "# Вхідний текст для обробки\n",
    "url = \"https://gutenberg.net.au/ebooks01/0100021.txt\"\n",
    "visualize_top_words(url, 10)"
   ]
  }
 ],
 "metadata": {
  "kernelspec": {
   "display_name": ".venv",
   "language": "python",
   "name": "python3"
  },
  "language_info": {
   "codemirror_mode": {
    "name": "ipython",
    "version": 3
   },
   "file_extension": ".py",
   "mimetype": "text/x-python",
   "name": "python",
   "nbconvert_exporter": "python",
   "pygments_lexer": "ipython3",
   "version": "3.12.2"
  }
 },
 "nbformat": 4,
 "nbformat_minor": 4
}
